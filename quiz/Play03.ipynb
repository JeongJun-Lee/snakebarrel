{
 "cells": [
  {
   "cell_type": "markdown",
   "id": "34ade4d2-0ec0-4e7c-99bf-6c0ba3e12027",
   "metadata": {},
   "source": [
    "# 컴퓨터가 보는 세상\n",
    "\n",
    "## 비교하기\n",
    "\n",
    "두 값중 누가 큰지 작은지 비교하는 명령은 `만약` 입니다. 영어로 `if`라고 씁니다."
   ]
  },
  {
   "cell_type": "code",
   "execution_count": 1,
   "id": "457dc9af-c80c-43c7-8074-751993c6a5b0",
   "metadata": {},
   "outputs": [
    {
     "name": "stdout",
     "output_type": "stream",
     "text": [
      "5가 3보다 큽니다\n"
     ]
    }
   ],
   "source": [
    "if 3 < 5:\n",
    "    print(\"5가 3보다 큽니다\")"
   ]
  },
  {
   "cell_type": "markdown",
   "id": "11af084d-03ad-4e34-b2f3-560c3fa9573e",
   "metadata": {},
   "source": [
    "위의 `<` 부등호 방향을 반대로 입력해서 어떻게 달라지는지 봅시다. "
   ]
  },
  {
   "cell_type": "markdown",
   "id": "40df6090-89c6-4fb5-9a07-c51ef9b906cf",
   "metadata": {},
   "source": [
    "`:` 이렇게 생긴 `쌍점` 이 보이죠?\n",
    "\n",
    "파이썬에서 쌍점은, 그 앞의 조건이 맞을 경우 그 아랫줄부터 `띄어쓰기기 같은` 코드들을 실행합니다.\n",
    "\n",
    "`print` 앞의 띄어쓰기는 한 칸이어도, 두 칸이어도, 네 칸이어도 되지만 절대로 그 윗 줄의 `if` 명령과 같은 띄어쓰기 칸 수이면 안됩니다.\n",
    "\n",
    "파이썬의 띄어쓰기는 스크래치의 블럭 단위에 해당합니다."
   ]
  },
  {
   "cell_type": "code",
   "execution_count": 4,
   "id": "e83574fb-f590-402a-bc12-e93c5ac560f4",
   "metadata": {},
   "outputs": [
    {
     "name": "stdout",
     "output_type": "stream",
     "text": [
      "3이 5보다 큽니다\n"
     ]
    }
   ],
   "source": [
    "if 3 > 5:\n",
    "    print(\"5가 3보다 큽니다\")\n",
    "else:\n",
    "    print(\"3이 5보다 큽니다\")"
   ]
  },
  {
   "cell_type": "markdown",
   "id": "90966c54-1430-4f8f-98f9-f436a264efe7",
   "metadata": {},
   "source": [
    "만약 그렇지 ***않다면*** 에 해당하는 표현은 `else` 입니다. \n",
    "\n",
    "만약 그렇지 ***않다면 만약*** 에 해당하는 표현은 `elif` 입니다. (else if의 줄임말입니다)\n"
   ]
  },
  {
   "cell_type": "code",
   "execution_count": 5,
   "id": "2c53efea-e5b6-4cd0-b1ac-14c7d2a38df1",
   "metadata": {},
   "outputs": [
    {
     "name": "stdout",
     "output_type": "stream",
     "text": [
      "b가 a보다 큽니다\n"
     ]
    }
   ],
   "source": [
    "a = 3\n",
    "b = 5\n",
    "if a > b:\n",
    "    print(\"a가 b보다 큽니다\")\n",
    "elif a < b:\n",
    "    print(\"b가 a보다 큽니다\")\n",
    "else:\n",
    "    print(\"a와 b의 값이 같습니다.\")"
   ]
  },
  {
   "cell_type": "markdown",
   "id": "b2db4305-f019-4760-8b5d-6548c0bc2849",
   "metadata": {},
   "source": [
    "## 퀴즈\n",
    "\n",
    "문자열에 \"엄마\"와 \"아빠\"를 넣고 누가 더 큰지 비교해봅시다. 동생 이름과 내 이름을 넣고서도 비교해 봅시다. 누가 더 큰가요?\n",
    "\n",
    "컴퓨터는 어떻게 글자들의 크기를 비교할까요?\n",
    "\n",
    "답을 들고 아빠에게 '유니코드'에 대해서 물어보고 적어 봅시다."
   ]
  },
  {
   "cell_type": "code",
   "execution_count": 6,
   "id": "d5fb246e-af0b-4d0e-8f2e-1f7d44ce86c7",
   "metadata": {},
   "outputs": [],
   "source": [
    "a = \"엄마\"\n",
    "b = \"아빠\""
   ]
  }
 ],
 "metadata": {
  "kernelspec": {
   "display_name": "Python 3.9 on Backend.AI",
   "language": "python",
   "name": "python3"
  },
  "language_info": {
   "codemirror_mode": {
    "name": "ipython",
    "version": 3
   },
   "file_extension": ".py",
   "mimetype": "text/x-python",
   "name": "python",
   "nbconvert_exporter": "python",
   "pygments_lexer": "ipython3",
   "version": "3.9.10"
  }
 },
 "nbformat": 4,
 "nbformat_minor": 5
}
