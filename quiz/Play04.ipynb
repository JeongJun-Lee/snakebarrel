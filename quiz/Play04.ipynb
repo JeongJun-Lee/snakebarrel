{
 "cells": [
  {
   "cell_type": "markdown",
   "id": "f8317808-0068-4ee5-a1dc-f2fbf14164a7",
   "metadata": {},
   "source": [
    "# 반복하기\n",
    "\n",
    "대부분의 일상 작업은 사람이 컴퓨터보다 잘 하지만, 사람이 따라잡을 수 없는 강점이 있습니다. 반복입니다.\n",
    "\n",
    "파이썬에서는 반복을 `for` 나 `while` 을 통해서 처리합니다. 우선 `for`부터 봅시다."
   ]
  },
  {
   "cell_type": "code",
   "execution_count": 2,
   "id": "f1438a03-5bf2-4fa9-bccd-9c6dcdc45a39",
   "metadata": {},
   "outputs": [
    {
     "name": "stdout",
     "output_type": "stream",
     "text": [
      "1\n",
      "2\n",
      "3\n"
     ]
    }
   ],
   "source": [
    "for i in [1,2,3]:\n",
    "    print(i)"
   ]
  },
  {
   "cell_type": "markdown",
   "id": "fc50ca94-ea89-4a88-8eb3-07c3340c1c32",
   "metadata": {},
   "source": [
    "위 코드는 `[1,2,3]` 에 들어있는 숫자를 하나씩 빼서 `i`에 넣고, `i` 하나하나마다 화면에 보여주라는 반복 명령입니다.\n",
    "\n",
    "처음 보는 것들이 나왔습니다. `[]` 과 `in` 입니다."
   ]
  },
  {
   "cell_type": "code",
   "execution_count": 8,
   "id": "6824063f-54bc-4669-a320-49bb7483fbbf",
   "metadata": {},
   "outputs": [
    {
     "name": "stdout",
     "output_type": "stream",
     "text": [
      "1\n"
     ]
    }
   ],
   "source": [
    "a = [1,2,3]\n",
    "print(a[0])"
   ]
  },
  {
   "cell_type": "markdown",
   "id": "1325f6fb-902f-4e94-80d8-64fbcb1691e9",
   "metadata": {},
   "source": [
    "`[]`는 목록입니다. 목록은 이러저러한 것들을 차례차례 기록한 것입니다. 위의 `a`에는 1, 2, 3이 차례차례 들어 있습니다.\n",
    "\n",
    "`a[0]` 은 a 목록의 첫번째 값을 의미합니다. \n",
    "\n",
    "첫번째인데 왜 0이냐고요? 역사적인 이유로 컴퓨터는 숫자를 0부터 셉니다.\n",
    "\n",
    "그럼 조금 더 복잡한 반복문을 하나 봅시다."
   ]
  },
  {
   "cell_type": "code",
   "execution_count": 4,
   "id": "478a082a-3e9a-4e92-af09-078b316af6f0",
   "metadata": {},
   "outputs": [
    {
     "name": "stdout",
     "output_type": "stream",
     "text": [
      "2\n",
      "4\n",
      "6\n"
     ]
    }
   ],
   "source": [
    "for i in [1,2,3]:\n",
    "    print(i * 2)"
   ]
  },
  {
   "cell_type": "markdown",
   "id": "0202bcc3-ba39-48fd-b6c3-bb24809e42b6",
   "metadata": {},
   "source": [
    "튀어나온 i 안에 든 값은 띄어쓰기가 같은 해당 블럭 (나중에 스코프라고 부를거에요)안에서 자유롭게 사용할 수 있습니다.\n",
    "\n",
    "해당 블럭이 끝나면 i에 다시 새 값을 넣고, 다시 그 블럭의 처음부터 반복하게 됩니다."
   ]
  },
  {
   "cell_type": "code",
   "execution_count": 6,
   "id": "c2c3a7aa-6292-4793-98a7-52cf618f92ee",
   "metadata": {},
   "outputs": [
    {
     "name": "stdout",
     "output_type": "stream",
     "text": [
      "1 4\n",
      "1 5\n",
      "2 4\n",
      "2 5\n",
      "3 4\n",
      "3 5\n"
     ]
    }
   ],
   "source": [
    "for i in [1,2,3]:\n",
    "    for j in [4,5]:\n",
    "        print(i, j)"
   ]
  },
  {
   "cell_type": "markdown",
   "id": "11745331-4126-47b5-8114-81a310c8c82d",
   "metadata": {},
   "source": [
    "이렇게 반복 안에 또 반복을 넣어도 됩니다.\n",
    "\n",
    "약간 응용해 볼까요? 새로운 명령을 하나 더 봅시다. `range()` 입니다."
   ]
  },
  {
   "cell_type": "code",
   "execution_count": 7,
   "id": "84792a11-ab61-4a7e-9ddd-41e440cdc0ab",
   "metadata": {},
   "outputs": [
    {
     "name": "stdout",
     "output_type": "stream",
     "text": [
      "1 0\n",
      "2 0\n",
      "2 1\n",
      "3 0\n",
      "3 1\n",
      "3 2\n"
     ]
    }
   ],
   "source": [
    "for i in [1,2,3]:\n",
    "    for j in range(0,i):\n",
    "        print(i, j)"
   ]
  },
  {
   "cell_type": "markdown",
   "id": "2397c6c4-5b91-4430-a833-f82902f5df6f",
   "metadata": {},
   "source": [
    "`range`는 첫번째로 준 숫자부터 두번째 숫자까지, 세번째 숫자만큼씩 더하거나 빼면서 만든 목록을 만들어 줍니다. `range(0,2)` 는 0부터 시작해서 2가 될 때 까지 1씩 늘어나는 숫자로 만들어진 목록입니다.\n",
    "\n",
    "`range(0,5,2)`는 어떨까요?"
   ]
  },
  {
   "cell_type": "code",
   "execution_count": 10,
   "id": "4802a135-c1f0-4621-9c96-d81d6db989ad",
   "metadata": {},
   "outputs": [
    {
     "name": "stdout",
     "output_type": "stream",
     "text": [
      "0\n",
      "2\n",
      "4\n"
     ]
    }
   ],
   "source": [
    "for i in range(0,5,2):\n",
    "    print(i)"
   ]
  },
  {
   "cell_type": "markdown",
   "id": "bfd5f6d6-2689-4b87-9948-8c1cff87cad7",
   "metadata": {},
   "source": [
    "# 퀴즈\n",
    "\n",
    "아래의 예를 봅시다. `end`는 화면에 출력한 다음 마지막 글자를 무엇으로 표시할지 정하는 방법입니다. 여기서는 따로 정하지 않으면 다음줄로 바꾸는 문자가 더해지니, 그러지 않도록 빈 문자를 주었습니다."
   ]
  },
  {
   "cell_type": "code",
   "execution_count": 13,
   "id": "6ad87255-668e-4f7e-ad00-8dc3775ed4a1",
   "metadata": {},
   "outputs": [
    {
     "name": "stdout",
     "output_type": "stream",
     "text": [
      "*\n",
      " *\n",
      "  *\n",
      "   *\n",
      "    *\n"
     ]
    }
   ],
   "source": [
    "for i in range(0,5):\n",
    "    for j in range(0,i):\n",
    "        print(' ',end='')\n",
    "    print('*')"
   ]
  },
  {
   "cell_type": "markdown",
   "id": "6ffc4817-82f2-4bb3-8587-cef1d679ea67",
   "metadata": {},
   "source": [
    "그럼 아래의 모양처럼 보이는 그림을 반복을 사용해서 그려봅시다.\n",
    "```\n",
    "*\n",
    "**\n",
    "***\n",
    "****\n",
    "*****\n",
    "```"
   ]
  },
  {
   "cell_type": "code",
   "execution_count": null,
   "id": "0a936245-85d8-4152-969c-eab3a257d698",
   "metadata": {},
   "outputs": [],
   "source": []
  },
  {
   "cell_type": "markdown",
   "id": "9309e59a-638c-4c59-a899-05ccb49ccfa9",
   "metadata": {},
   "source": [
    "잘 그렸다면 이번엔 이 모양처럼 보이는 그림을 그려봅시다.\n",
    "\n",
    "```\n",
    "*****\n",
    "****\n",
    "***\n",
    "**\n",
    "*\n",
    "```"
   ]
  },
  {
   "cell_type": "code",
   "execution_count": null,
   "id": "9e3ec61f-6c2c-4e3a-9866-4182bb24b630",
   "metadata": {},
   "outputs": [],
   "source": []
  }
 ],
 "metadata": {
  "kernelspec": {
   "display_name": "Python 3 (ipykernel)",
   "language": "python",
   "name": "python3"
  },
  "language_info": {
   "codemirror_mode": {
    "name": "ipython",
    "version": 3
   },
   "file_extension": ".py",
   "mimetype": "text/x-python",
   "name": "python",
   "nbconvert_exporter": "python",
   "pygments_lexer": "ipython3",
   "version": "3.10.5"
  }
 },
 "nbformat": 4,
 "nbformat_minor": 5
}
