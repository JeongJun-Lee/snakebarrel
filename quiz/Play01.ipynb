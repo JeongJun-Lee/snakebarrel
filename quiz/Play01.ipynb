{
 "cells": [
  {
   "cell_type": "markdown",
   "id": "f3a7780f-1a7f-4305-9cf1-9a0a76c596af",
   "metadata": {},
   "source": [
    "# 파이썬 배우기\n",
    "\n",
    "이번 방학동안 파이썬을 배워봅시다!\n",
    "\n",
    "하나도 어렵지 않습니다!\n",
    "\n",
    "## 화면에 글씨를 찍기\n",
    "\n",
    "아래에 있는 코드를 실행할겁니다. 여기 위에 있는 재생 버튼을 누르면 코드가 실행될거에요."
   ]
  },
  {
   "cell_type": "code",
   "execution_count": 1,
   "id": "6287dba3-5a79-4b8b-a91b-b05a6987e7ed",
   "metadata": {},
   "outputs": [
    {
     "name": "stdout",
     "output_type": "stream",
     "text": [
      "헬로 월드\n"
     ]
    }
   ],
   "source": [
    "print(\"헬로 월드\")"
   ]
  },
  {
   "cell_type": "markdown",
   "id": "18eec2c9-cd52-487c-9945-f35da857bfcf",
   "metadata": {},
   "source": [
    "`print` 는, 보여주는 기계에 주어진 글을 찍으라는 명령입니다. 여기선 화면이 연결되어 있으니 화면에 `헬로 월드` 글씨를 찍었습니다.\n",
    "\n",
    "\"헬로 월드\" 처럼, 쌍따옴표로 묶인 글을 우리는 `문자열` 이라고 부를겁니다. 글씨가 줄서 있다는 의미로 생각합시다.\n",
    "\n",
    "글씨는 꼭 따옴표로 묶여 있어야 합니다."
   ]
  },
  {
   "cell_type": "code",
   "execution_count": 2,
   "id": "70b5522d-8225-4a4b-af13-5ec23e673de4",
   "metadata": {},
   "outputs": [
    {
     "data": {
      "text/plain": [
       "'파이썬'"
      ]
     },
     "execution_count": 2,
     "metadata": {},
     "output_type": "execute_result"
    }
   ],
   "source": [
    "\"파이썬\""
   ]
  },
  {
   "cell_type": "code",
   "execution_count": 3,
   "id": "d025aa9d-0d69-471e-8eed-8e3ed10aea36",
   "metadata": {},
   "outputs": [
    {
     "ename": "NameError",
     "evalue": "name '파이썬' is not defined",
     "output_type": "error",
     "traceback": [
      "\u001b[0;31m---------------------------------------------------------------------------\u001b[0m",
      "\u001b[0;31mNameError\u001b[0m                                 Traceback (most recent call last)",
      "Input \u001b[0;32mIn [3]\u001b[0m, in \u001b[0;36m<module>\u001b[0;34m\u001b[0m\n\u001b[0;32m----> 1\u001b[0m \u001b[43m파이썬\u001b[49m\n",
      "\u001b[0;31mNameError\u001b[0m: name '파이썬' is not defined"
     ]
    }
   ],
   "source": [
    "파이썬"
   ]
  },
  {
   "cell_type": "markdown",
   "id": "28ebcde9-4a7d-448e-891f-920ed37bc5ee",
   "metadata": {},
   "source": [
    "따옴표가 없으면, 컴퓨터는 그게 글씨가 줄 서 있는 문자열인줄 이해하지 못합니다."
   ]
  },
  {
   "cell_type": "markdown",
   "id": "ff7ce565-8fdd-4429-af21-e2dbeb1b17c3",
   "metadata": {},
   "source": [
    "## 오늘의 퀴즈\n",
    "\n",
    "화면에 \"ABCDEFGHIJKLMNOPQRSTUVWXYZ\" 가 열 번 나오도록 아래에 명령을 만들어 봅시다."
   ]
  },
  {
   "cell_type": "code",
   "execution_count": null,
   "id": "d00c638a-bfa3-4d08-a126-074a99a83584",
   "metadata": {},
   "outputs": [],
   "source": []
  }
 ],
 "metadata": {
  "kernelspec": {
   "display_name": "Python 3.9 on Backend.AI",
   "language": "python",
   "name": "python3"
  },
  "language_info": {
   "codemirror_mode": {
    "name": "ipython",
    "version": 3
   },
   "file_extension": ".py",
   "mimetype": "text/x-python",
   "name": "python",
   "nbconvert_exporter": "python",
   "pygments_lexer": "ipython3",
   "version": "3.9.10"
  }
 },
 "nbformat": 4,
 "nbformat_minor": 5
}
