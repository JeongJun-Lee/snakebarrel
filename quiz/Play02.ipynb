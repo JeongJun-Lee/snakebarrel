{
 "cells": [
  {
   "cell_type": "markdown",
   "id": "870c6fcd-7b9e-40ce-a16b-ecbde39dfafe",
   "metadata": {},
   "source": [
    "# 변수\n",
    "\n",
    "컴퓨터에서 값을 넣어두는 곳을 메모리라고 합니다.\n",
    "\n",
    "변수는 메모리로 된 집의 방에 이름을 붙이는 방법입니다. 방 안에는 다양한 값을 넣어둘 수 있습니다."
   ]
  },
  {
   "cell_type": "code",
   "execution_count": 1,
   "id": "04b040ed-b6fd-4135-be48-2a33acb5900a",
   "metadata": {},
   "outputs": [
    {
     "name": "stdout",
     "output_type": "stream",
     "text": [
      "더위 사냥\n"
     ]
    }
   ],
   "source": [
    "a = \"더위 사냥\"\n",
    "print(a)"
   ]
  },
  {
   "cell_type": "markdown",
   "id": "2ca64116-f505-4f10-ad3b-ad55aa7e6c6f",
   "metadata": {},
   "source": [
    "`a` 라는 변수를 만들고, 그 안에 `\"더위 사냥\"` 이라는 글씨들이 줄 서 있는 문자열을 넣었습니다.\n",
    "\n",
    "`print`를 사용해서 `a`를 화면에 보여주면, 그 안에 든 `\"더위 사냥\"` 이 화면에 나옵니다."
   ]
  },
  {
   "cell_type": "code",
   "execution_count": 2,
   "id": "eb4ab7ee-4ed2-4fff-ab74-950147f0dd90",
   "metadata": {},
   "outputs": [
    {
     "name": "stdout",
     "output_type": "stream",
     "text": [
      "삶은 계란\n",
      "순살 치킨\n"
     ]
    }
   ],
   "source": [
    "a = \"삶은 계란\"\n",
    "b = \"순살 치킨\"\n",
    "print(a)\n",
    "print(b)"
   ]
  },
  {
   "cell_type": "markdown",
   "id": "9414c0e3-55b7-4ea9-bd39-1488b92061fd",
   "metadata": {},
   "source": [
    "변수는 여러개 만들 수도 있습니다."
   ]
  },
  {
   "cell_type": "code",
   "execution_count": 3,
   "id": "d98eb263-ac68-49e6-afc3-5cff4442da57",
   "metadata": {},
   "outputs": [
    {
     "name": "stdout",
     "output_type": "stream",
     "text": [
      "삶은 계란 순살 치킨\n"
     ]
    }
   ],
   "source": [
    "a = \"삶은 계란\"\n",
    "b = \"순살 치킨\"\n",
    "print(a, b)"
   ]
  },
  {
   "cell_type": "markdown",
   "id": "101e7c2a-3e47-45ce-a270-c325da76e1b4",
   "metadata": {},
   "source": [
    "`print`는 쉼표로 구분해서 여러 문자열을 출력할 수도 있습니다.\n",
    "\n",
    "문자열이 아니라 숫자를 넣어둘 수도 있습니다."
   ]
  },
  {
   "cell_type": "code",
   "execution_count": 4,
   "id": "84851449-6688-4b12-89af-a3ae9b5bf4ac",
   "metadata": {},
   "outputs": [
    {
     "name": "stdout",
     "output_type": "stream",
     "text": [
      "3\n"
     ]
    }
   ],
   "source": [
    "a = 3\n",
    "b = 5\n",
    "print(a)"
   ]
  },
  {
   "cell_type": "markdown",
   "id": "a873df40-0a12-4497-9856-c119e7c02c78",
   "metadata": {},
   "source": [
    "숫자의 경우, 더하거나 뺄 수도 있습니다."
   ]
  },
  {
   "cell_type": "code",
   "execution_count": null,
   "id": "70600729-4a55-4613-8bfe-6f8110a6bc9f",
   "metadata": {},
   "outputs": [],
   "source": [
    "a = 3\n",
    "b = 5\n",
    "print(a + b)"
   ]
  },
  {
   "cell_type": "markdown",
   "id": "4a60cc7a-377f-4784-85a2-7155df9912e4",
   "metadata": {},
   "source": [
    "다른 숫자를 더하거나 뺀 값을 새로 만든 변수에도 넣을 수 있습니다."
   ]
  },
  {
   "cell_type": "code",
   "execution_count": 5,
   "id": "f092251b-5fea-4ee8-a267-f2dd2229ce62",
   "metadata": {},
   "outputs": [
    {
     "name": "stdout",
     "output_type": "stream",
     "text": [
      "8\n"
     ]
    }
   ],
   "source": [
    "a = 3\n",
    "b = 5\n",
    "c = a + b\n",
    "print(c)"
   ]
  },
  {
   "cell_type": "markdown",
   "id": "d2e28dfe-b618-456f-95a0-283be9006178",
   "metadata": {},
   "source": [
    "## 오늘의 퀴즈\n",
    "\n",
    "4와 6을 변수에 넣고, 두 변수를 더한 값, 뺀 값, 곱한 값을 출력해 봅시다. 곱하기 기호는 `*`입니다. (키보드에서 아무리 찾아도 x가 없을거에요)"
   ]
  },
  {
   "cell_type": "code",
   "execution_count": null,
   "id": "fed4c17c-9068-4966-a5da-a6775b334f1a",
   "metadata": {},
   "outputs": [],
   "source": [
    "a = 4\n",
    "b = 6"
   ]
  },
  {
   "cell_type": "code",
   "execution_count": null,
   "id": "7d5292d8-0495-41bb-972b-8c75f115659a",
   "metadata": {},
   "outputs": [],
   "source": []
  }
 ],
 "metadata": {
  "kernelspec": {
   "display_name": "Python 3.9 on Backend.AI",
   "language": "python",
   "name": "python3"
  },
  "language_info": {
   "codemirror_mode": {
    "name": "ipython",
    "version": 3
   },
   "file_extension": ".py",
   "mimetype": "text/x-python",
   "name": "python",
   "nbconvert_exporter": "python",
   "pygments_lexer": "ipython3",
   "version": "3.9.10"
  }
 },
 "nbformat": 4,
 "nbformat_minor": 5
}
